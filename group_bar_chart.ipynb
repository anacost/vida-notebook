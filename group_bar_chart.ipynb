{
 "cells": [
  {
   "cell_type": "code",
   "execution_count": 4,
   "metadata": {
    "collapsed": false
   },
   "outputs": [
    {
     "data": {
      "text/html": [
       "<script type=\"text/javascript\" src=\"https://rawgit.com/vidalab/isender/master/isender.js\"></script><iframe src=\"https://vida.io/embed/sEYXnxDfdxXn824QH?ext_data=true\" width=\"900\" height=\"500\" seamless frameBorder=\"0\" scrolling=\"yes\" id=\"vida-embed\"></iframe><script type=\"text/javascript\">document.getElementById(\"vida-embed\").onload = function() {var dataObj = [{\"18 to 24 Years\": \"3853788\", \"State\": \"CA\", \"5 to 13 Years\": \"4499890\", \"Under 5 Years\": \"2704659\", \"45 to 64 Years\": \"8819342\", \"25 to 44 Years\": \"10604510\", \"14 to 17 Years\": \"2159981\", \"65 Years and Over\": \"4114496\"}, {\"18 to 24 Years\": \"2454721\", \"State\": \"TX\", \"5 to 13 Years\": \"3277946\", \"Under 5 Years\": \"2027307\", \"45 to 64 Years\": \"5656528\", \"25 to 44 Years\": \"7017731\", \"14 to 17 Years\": \"1420518\", \"65 Years and Over\": \"2472223\"}, {\"18 to 24 Years\": \"1999120\", \"State\": \"NY\", \"5 to 13 Years\": \"2141490\", \"Under 5 Years\": \"1208495\", \"45 to 64 Years\": \"5120254\", \"25 to 44 Years\": \"5355235\", \"14 to 17 Years\": \"1058031\", \"65 Years and Over\": \"2607672\"}, {\"18 to 24 Years\": \"1607297\", \"State\": \"FL\", \"5 to 13 Years\": \"1938695\", \"Under 5 Years\": \"1140516\", \"45 to 64 Years\": \"4746856\", \"25 to 44 Years\": \"4782119\", \"14 to 17 Years\": \"925060\", \"65 Years and Over\": \"3187797\"}, {\"18 to 24 Years\": \"1311479\", \"State\": \"IL\", \"5 to 13 Years\": \"1558919\", \"Under 5 Years\": \"894368\", \"45 to 64 Years\": \"3239173\", \"25 to 44 Years\": \"3596343\", \"14 to 17 Years\": \"725973\", \"65 Years and Over\": \"1575308\"}, {\"18 to 24 Years\": \"1203944\", \"State\": \"PA\", \"5 to 13 Years\": \"1345341\", \"Under 5 Years\": \"737462\", \"45 to 64 Years\": \"3414001\", \"25 to 44 Years\": \"3157759\", \"14 to 17 Years\": \"679201\", \"65 Years and Over\": \"1910571\"}];var sender = new Vida.ISender(\"vida-embed\");sender.postRender(dataObj);}</script>"
      ],
      "text/plain": [
       "<IPython.core.display.HTML object>"
      ]
     },
     "execution_count": 4,
     "metadata": {},
     "output_type": "execute_result"
    }
   ],
   "source": [
    "from IPython.core.display import HTML\n",
    "import json\n",
    "\n",
    "data = [{\"State\":\"CA\",\"Under 5 Years\":\"2704659\",\"5 to 13 Years\":\"4499890\",\"14 to 17 Years\":\"2159981\",\"18 to 24 Years\":\"3853788\",\"25 to 44 Years\":\"10604510\",\"45 to 64 Years\":\"8819342\",\"65 Years and Over\":\"4114496\"},{\"State\":\"TX\",\"Under 5 Years\":\"2027307\",\"5 to 13 Years\":\"3277946\",\"14 to 17 Years\":\"1420518\",\"18 to 24 Years\":\"2454721\",\"25 to 44 Years\":\"7017731\",\"45 to 64 Years\":\"5656528\",\"65 Years and Over\":\"2472223\"},{\"State\":\"NY\",\"Under 5 Years\":\"1208495\",\"5 to 13 Years\":\"2141490\",\"14 to 17 Years\":\"1058031\",\"18 to 24 Years\":\"1999120\",\"25 to 44 Years\":\"5355235\",\"45 to 64 Years\":\"5120254\",\"65 Years and Over\":\"2607672\"},{\"State\":\"FL\",\"Under 5 Years\":\"1140516\",\"5 to 13 Years\":\"1938695\",\"14 to 17 Years\":\"925060\",\"18 to 24 Years\":\"1607297\",\"25 to 44 Years\":\"4782119\",\"45 to 64 Years\":\"4746856\",\"65 Years and Over\":\"3187797\"},{\"State\":\"IL\",\"Under 5 Years\":\"894368\",\"5 to 13 Years\":\"1558919\",\"14 to 17 Years\":\"725973\",\"18 to 24 Years\":\"1311479\",\"25 to 44 Years\":\"3596343\",\"45 to 64 Years\":\"3239173\",\"65 Years and Over\":\"1575308\"},{\"State\":\"PA\",\"Under 5 Years\":\"737462\",\"5 to 13 Years\":\"1345341\",\"14 to 17 Years\":\"679201\",\"18 to 24 Years\":\"1203944\",\"25 to 44 Years\":\"3157759\",\"45 to 64 Years\":\"3414001\",\"65 Years and Over\":\"1910571\"}]\n",
    "\n",
    "HTML('<script type=\"text/javascript\" src=\"https://rawgit.com/vidalab/isender/master/isender.js\"></script>' +\n",
    "'<iframe src=\"https://vida.io/embed/sEYXnxDfdxXn824QH?ext_data=true\" width=\"900\" height=\"500\" seamless frameBorder=\"0\" scrolling=\"yes\" id=\"vida-embed\"></iframe>' +\n",
    "'<script type=\"text/javascript\">' +\n",
    "'document.getElementById(\"vida-embed\").onload = function() {' +\n",
    "'var dataObj = ' +\n",
    "json.dumps(data) + ';' +\n",
    "'var sender = new Vida.ISender(\"vida-embed\");' +\n",
    "'sender.postRender(dataObj);' +\n",
    "'}' +\n",
    "'</script>')\n"
   ]
  },
  {
   "cell_type": "code",
   "execution_count": null,
   "metadata": {
    "collapsed": true
   },
   "outputs": [],
   "source": []
  },
  {
   "cell_type": "code",
   "execution_count": null,
   "metadata": {
    "collapsed": true
   },
   "outputs": [],
   "source": []
  }
 ],
 "metadata": {
  "kernelspec": {
   "display_name": "Python 2",
   "language": "python",
   "name": "python2"
  },
  "language_info": {
   "codemirror_mode": {
    "name": "ipython",
    "version": 2
   },
   "file_extension": ".py",
   "mimetype": "text/x-python",
   "name": "python",
   "nbconvert_exporter": "python",
   "pygments_lexer": "ipython2",
   "version": "2.7.10"
  }
 },
 "nbformat": 4,
 "nbformat_minor": 0
}
