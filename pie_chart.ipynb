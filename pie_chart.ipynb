{
 "cells": [
  {
   "cell_type": "code",
   "execution_count": 1,
   "metadata": {
    "collapsed": false
   },
   "outputs": [
    {
     "data": {
      "text/html": [
       "<script type=\"text/javascript\" src=\"https://rawgit.com/vidalab/isender/master/isender.js\"></script><iframe src=\"https://vida.io/embed/pooDmdtX2TREKmTin?ext_data=true\" width=\"900\" height=\"500\" seamless frameBorder=\"0\" scrolling=\"yes\" id=\"vida-embed\"></iframe><script type=\"text/javascript\">document.getElementById(\"vida-embed\").onload = function() {var dataObj = [{\"age\": \"<5\", \"population\": \"2704659\"}, {\"age\": \"5-13\", \"population\": \"4499890\"}, {\"age\": \"14-17\", \"population\": \"2159981\"}, {\"age\": \"18-24\", \"population\": \"3853788\"}, {\"age\": \"25-44\", \"population\": \"14106543\"}, {\"age\": \"45-64\", \"population\": \"8819342\"}, {\"age\": \"\\u226565\", \"population\": \"612463\"}];var sender = new Vida.ISender(\"vida-embed\");sender.postRender(dataObj);}</script>"
      ],
      "text/plain": [
       "<IPython.core.display.HTML object>"
      ]
     },
     "execution_count": 1,
     "metadata": {},
     "output_type": "execute_result"
    }
   ],
   "source": [
    "from IPython.core.display import HTML\n",
    "import json\n",
    "\n",
    "data = [{\"age\":\"<5\",\"population\":\"2704659\"},{\"age\":\"5-13\",\"population\":\"4499890\"},{\"age\":\"14-17\",\"population\":\"2159981\"},{\"age\":\"18-24\",\"population\":\"3853788\"},{\"age\":\"25-44\",\"population\":\"14106543\"},{\"age\":\"45-64\",\"population\":\"8819342\"},{\"age\":\"≥65\",\"population\":\"612463\"}]\n",
    "\n",
    "HTML('<script type=\"text/javascript\" src=\"https://rawgit.com/vidalab/isender/master/isender.js\"></script>' +\n",
    "'<iframe src=\"https://vida.io/embed/pooDmdtX2TREKmTin?ext_data=true\" width=\"900\" height=\"500\" seamless frameBorder=\"0\" scrolling=\"yes\" id=\"vida-embed\"></iframe>' +\n",
    "'<script type=\"text/javascript\">' +\n",
    "'document.getElementById(\"vida-embed\").onload = function() {' +\n",
    "'var dataObj = ' +\n",
    "json.dumps(data) + ';' +\n",
    "'var sender = new Vida.ISender(\"vida-embed\");' +\n",
    "'sender.postRender(dataObj);' +\n",
    "'}' +\n",
    "'</script>')\n"
   ]
  },
  {
   "cell_type": "code",
   "execution_count": null,
   "metadata": {
    "collapsed": true
   },
   "outputs": [],
   "source": []
  },
  {
   "cell_type": "code",
   "execution_count": null,
   "metadata": {
    "collapsed": true
   },
   "outputs": [],
   "source": []
  }
 ],
 "metadata": {
  "kernelspec": {
   "display_name": "Python 2",
   "language": "python",
   "name": "python2"
  },
  "language_info": {
   "codemirror_mode": {
    "name": "ipython",
    "version": 2
   },
   "file_extension": ".py",
   "mimetype": "text/x-python",
   "name": "python",
   "nbconvert_exporter": "python",
   "pygments_lexer": "ipython2",
   "version": "2.7.10"
  }
 },
 "nbformat": 4,
 "nbformat_minor": 0
}
