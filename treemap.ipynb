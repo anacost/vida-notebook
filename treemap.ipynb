{
 "cells": [
  {
   "cell_type": "code",
   "execution_count": 3,
   "metadata": {
    "collapsed": false
   },
   "outputs": [
    {
     "data": {
      "text/html": [
       "<script type=\"text/javascript\" src=\"https://rawgit.com/vidalab/isender/master/isender.js\"></script><iframe src=\"https://vida.io/embed/chgwCKJJnKh7soEcQ?ext_data=true\" width=\"800\" height=\"500\" seamless frameBorder=\"0\" scrolling=\"no\" id=\"vida-embed\"></iframe><script type=\"text/javascript\">document.getElementById(\"vida-embed\").onload = function() {var dataObj = [{\"https://t.co\": 7, \"algorithms\": 11, \"build\": 8, \"odhtyct\": 7, \"hntweets\": 6, \"app\": 5, \"http://t.co/kigpq\": 7, \"comments\": 7}, {\"team\": 8, \"angularjs\": 7, \"algorithmia\": 19, \"doppenhe\": 9, \"playframework\": 7, \"scala\": 7, \"http://t.co\": 17, \"flrsuu\": 7}];var sender = new Vida.ISender(\"vida-embed\");sender.postRender(dataObj);}</script>"
      ],
      "text/plain": [
       "<IPython.core.display.HTML object>"
      ]
     },
     "execution_count": 3,
     "metadata": {},
     "output_type": "execute_result"
    }
   ],
   "source": [
    "import vida\n",
    "\n",
    "data = [\n",
    "  {\n",
    "    \"app\": 5,\n",
    "    \"algorithms\": 11,\n",
    "    \"odhtyct\": 7,\n",
    "    \"https://t.co\": 7,\n",
    "    \"comments\": 7,\n",
    "    \"build\": 8,\n",
    "    \"hntweets\": 6,\n",
    "    \"http://t.co/kigpq\": 7\n",
    "  },\n",
    "  {\n",
    "    \"doppenhe\": 9,\n",
    "    \"algorithmia\": 19,\n",
    "    \"flrsuu\": 7,\n",
    "    \"scala\": 7,\n",
    "    \"http://t.co\": 17,\n",
    "    \"playframework\": 7,\n",
    "    \"team\": 8,\n",
    "    \"angularjs\": 7\n",
    "  }\n",
    "];\n",
    "\n",
    "vida.show(\"chgwCKJJnKh7soEcQ\", data, options={\"height\": 500})"
   ]
  },
  {
   "cell_type": "code",
   "execution_count": null,
   "metadata": {
    "collapsed": true
   },
   "outputs": [],
   "source": []
  },
  {
   "cell_type": "code",
   "execution_count": null,
   "metadata": {
    "collapsed": true
   },
   "outputs": [],
   "source": []
  }
 ],
 "metadata": {
  "kernelspec": {
   "display_name": "Python 2",
   "language": "python",
   "name": "python2"
  },
  "language_info": {
   "codemirror_mode": {
    "name": "ipython",
    "version": 2
   },
   "file_extension": ".py",
   "mimetype": "text/x-python",
   "name": "python",
   "nbconvert_exporter": "python",
   "pygments_lexer": "ipython2",
   "version": "2.7.10"
  }
 },
 "nbformat": 4,
 "nbformat_minor": 0
}
