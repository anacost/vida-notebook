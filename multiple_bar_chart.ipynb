{
 "cells": [
  {
   "cell_type": "code",
   "execution_count": 2,
   "metadata": {
    "collapsed": false
   },
   "outputs": [
    {
     "data": {
      "text/html": [
       "<script type=\"text/javascript\" src=\"https://rawgit.com/vidalab/isender/master/isender.js\"></script><iframe src=\"https://vida.io/embed/ZCzewTza4ZSzMWSBG?ext_data=true\" width=\"900\" height=\"700\" seamless frameBorder=\"0\" scrolling=\"yes\" id=\"vida-embed\"></iframe><script type=\"text/javascript\">document.getElementById(\"vida-embed\").onload = function() {var dataObj = [{\"chart_title\": \"Population\", \"China\": 1.36, \"India\": 1.22, \"unit\": \"billion\"}, {\"chart_title\": \"Popluation Grow Rate\", \"China\": 0.0048, \"India\": 0.0131, \"unit\": \"percentage\"}, {\"chart_title\": \"Tallest Building\", \"China\": 1614, \"India\": 833, \"unit\": \"meter\"}, {\"chart_title\": \"Sex Ratio\", \"China\": 1.06, \"India\": 1.08, \"unit\": \"\"}, {\"chart_title\": \"Literacy All Gender\", \"China\": 0.92, \"India\": 0.74, \"unit\": \"percentage\"}, {\"chart_title\": \"Literacy All Male\", \"China\": 0.96, \"India\": 0.82, \"unit\": \"percentage\"}, {\"chart_title\": \"Literacy All Female\", \"China\": 0.88, \"India\": 0.65, \"unit\": \"percentage\"}, {\"chart_title\": \"Area\", \"China\": 9.706, \"India\": 3.31, \"unit\": \"million square km\"}, {\"chart_title\": \"Area Land\", \"China\": 9.434, \"India\": 2.97, \"unit\": \"million square km\"}, {\"chart_title\": \"Area Water\", \"China\": 0.272, \"India\": 0.34, \"unit\": \"million square km\"}, {\"chart_title\": \"Infant Mortality\", \"China\": 15.62, \"India\": 46.07, \"unit\": \"per thousand\"}];var sender = new Vida.ISender(\"vida-embed\");sender.postRender(dataObj);}</script>"
      ],
      "text/plain": [
       "<IPython.core.display.HTML object>"
      ]
     },
     "execution_count": 2,
     "metadata": {},
     "output_type": "execute_result"
    }
   ],
   "source": [
    "from IPython.core.display import HTML\n",
    "import json\n",
    "\n",
    "data = [\n",
    "  {\n",
    "    \"chart_title\": \"Population\",\n",
    "    \"unit\": \"billion\",\n",
    "    \"India\": 1.22,\n",
    "    \"China\": 1.36\n",
    "  },\n",
    "  {\n",
    "    \"chart_title\": \"Popluation Grow Rate\",\n",
    "    \"unit\": \"percentage\",\n",
    "    \"India\": 0.0131,\n",
    "    \"China\": 0.0048\n",
    "  },\n",
    "  {\n",
    "    \"chart_title\": \"Tallest Building\",\n",
    "    \"unit\": \"meter\",\n",
    "    \"India\": 833,\n",
    "    \"China\": 1614\n",
    "  },\n",
    "  {\n",
    "    \"chart_title\": \"Sex Ratio\",\n",
    "    \"unit\": \"\",\n",
    "    \"India\": 1.08,\n",
    "    \"China\": 1.06\n",
    "  },\n",
    "  {\n",
    "    \"chart_title\": \"Literacy All Gender\",\n",
    "    \"unit\": \"percentage\",\n",
    "    \"India\": 0.74,\n",
    "    \"China\": 0.92\n",
    "  },\n",
    "  {\n",
    "    \"chart_title\": \"Literacy All Male\",\n",
    "    \"unit\": \"percentage\",\n",
    "    \"India\": 0.82,\n",
    "    \"China\": 0.96\n",
    "  },\n",
    "  {\n",
    "    \"chart_title\": \"Literacy All Female\",\n",
    "    \"unit\": \"percentage\",\n",
    "    \"India\": 0.65,\n",
    "    \"China\": 0.88\n",
    "  },\n",
    "  {\n",
    "    \"chart_title\": \"Area\",\n",
    "    \"unit\": \"million square km\",\n",
    "    \"India\": 3.31,\n",
    "    \"China\": 9.706\n",
    "  },\n",
    "  {\n",
    "    \"chart_title\": \"Area Land\",\n",
    "    \"unit\": \"million square km\",\n",
    "    \"India\": 2.97,\n",
    "    \"China\": 9.434\n",
    "  },\n",
    "  {\n",
    "    \"chart_title\": \"Area Water\",\n",
    "    \"unit\": \"million square km\",\n",
    "    \"India\": 0.34,\n",
    "    \"China\": 0.272\n",
    "  },\n",
    "  {\n",
    "    \"chart_title\": \"Infant Mortality\",\n",
    "    \"unit\": \"per thousand\",\n",
    "    \"India\": 46.07,\n",
    "    \"China\": 15.62\n",
    "  }\n",
    "]\n",
    "\n",
    "HTML('<script type=\"text/javascript\" src=\"https://rawgit.com/vidalab/isender/master/isender.js\"></script>' +\n",
    "'<iframe src=\"https://vida.io/embed/ZCzewTza4ZSzMWSBG?ext_data=true\" width=\"900\" height=\"700\" seamless frameBorder=\"0\" scrolling=\"yes\" id=\"vida-embed\"></iframe>' +\n",
    "'<script type=\"text/javascript\">' +\n",
    "'document.getElementById(\"vida-embed\").onload = function() {' +\n",
    "'var dataObj = ' +\n",
    "json.dumps(data) + ';' +\n",
    "'var sender = new Vida.ISender(\"vida-embed\");' +\n",
    "'sender.postRender(dataObj);' +\n",
    "'}' +\n",
    "'</script>')\n"
   ]
  },
  {
   "cell_type": "code",
   "execution_count": null,
   "metadata": {
    "collapsed": true
   },
   "outputs": [],
   "source": []
  },
  {
   "cell_type": "code",
   "execution_count": null,
   "metadata": {
    "collapsed": true
   },
   "outputs": [],
   "source": []
  }
 ],
 "metadata": {
  "kernelspec": {
   "display_name": "Python 2",
   "language": "python",
   "name": "python2"
  },
  "language_info": {
   "codemirror_mode": {
    "name": "ipython",
    "version": 2
   },
   "file_extension": ".py",
   "mimetype": "text/x-python",
   "name": "python",
   "nbconvert_exporter": "python",
   "pygments_lexer": "ipython2",
   "version": "2.7.10"
  }
 },
 "nbformat": 4,
 "nbformat_minor": 0
}
