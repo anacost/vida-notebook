{
 "cells": [
  {
   "cell_type": "markdown",
   "metadata": {},
   "source": [
    "<a href=\"https://vida.io\"><img style='float: left' align='left' src=\"https://vida.io/images/logo-only.png\"></a>\n",
    "<h1 style=\"font-size:40px; margin-top:-10px\">&nbsp;&nbsp;&nbsp;&nbsp;&nbsp;Data visualizations for IPython notebook</h1>\n",
    "<p>Made by <a href=\"https://vida.io\">vida.io</a></p>\n",
    "<p>Question or comment. Send to <a href=\"mailto:contact@vida.io?Subject=IPython\">contact@vida.io</a></p>"
   ]
  },
  {
   "cell_type": "markdown",
   "metadata": {},
   "source": [
    "<h2>Tree and Treemap</h2>\n",
    "\n",
    "<a href=\"./treemap.ipynb\">\n",
    "<img src=\"https://vida-production.s3.amazonaws.com/thumbnails/chgwCKJJnKh7soEcQ\" class=\"thumbnail\"/>\n",
    "</a>\n",
    "\n",
    "<h2>"
   ]
  },
  {
   "cell_type": "code",
   "execution_count": null,
   "metadata": {
    "collapsed": false,
    "scrolled": true
   },
   "outputs": [],
   "source": []
  },
  {
   "cell_type": "code",
   "execution_count": null,
   "metadata": {
    "collapsed": true
   },
   "outputs": [],
   "source": []
  }
 ],
 "metadata": {
  "kernelspec": {
   "display_name": "Python 2",
   "language": "python",
   "name": "python2"
  },
  "language_info": {
   "codemirror_mode": {
    "name": "ipython",
    "version": 2
   },
   "file_extension": ".py",
   "mimetype": "text/x-python",
   "name": "python",
   "nbconvert_exporter": "python",
   "pygments_lexer": "ipython2",
   "version": "2.7.10"
  }
 },
 "nbformat": 4,
 "nbformat_minor": 0
}
