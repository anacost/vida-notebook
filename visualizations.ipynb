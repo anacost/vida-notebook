{
 "cells": [
  {
   "cell_type": "markdown",
   "metadata": {},
   "source": [
    "<h1>Data visualizations for IPython notebook</h1>\n",
    "<p>Made by <a href=\"https://vida.io\">vida.io</a>.</p>\n",
    "<p>Question or comment. Send to <a href=\"mailto:contact@vida.io?Subject=IPython\">contact@vida.io</a>.</p>"
   ]
  },
  {
   "cell_type": "markdown",
   "metadata": {},
   "source": [
    "<h2>Tree and Treemap</h2>\n",
    "<a href=\"./treemap.ipynb\">\n",
    "<img src=\"https://vida-production.s3.amazonaws.com/thumbnails/chgwCKJJnKh7soEcQ\" width=\"360\"/>\n",
    "<br>\n",
    "Tree\n",
    "</a>\n",
    "<a href=\"./treemap.ipynb\">\n",
    "<img src=\"https://vida-production.s3.amazonaws.com/thumbnails/chgwCKJJnKh7soEcQ\" width=\"360\"/>\n",
    "<br>\n",
    "Treemap\n",
    "</a>\n",
    "\n",
    "<h2>"
   ]
  },
  {
   "cell_type": "code",
   "execution_count": null,
   "metadata": {
    "collapsed": false,
    "scrolled": true
   },
   "outputs": [],
   "source": []
  },
  {
   "cell_type": "code",
   "execution_count": 5,
   "metadata": {
    "collapsed": false
   },
   "outputs": [
    {
     "data": {
      "text/html": [
       "h1.header {\n",
       "  color: steelblue;\n",
       "  font-size:40px;\n",
       "}\n"
      ],
      "text/plain": [
       "<IPython.core.display.HTML object>"
      ]
     },
     "metadata": {},
     "output_type": "display_data"
    }
   ],
   "source": [
    "from IPython.core.display import display, HTML\n",
    "display(HTML(open('style.css', 'r').read()));"
   ]
  },
  {
   "cell_type": "code",
   "execution_count": null,
   "metadata": {
    "collapsed": true
   },
   "outputs": [],
   "source": []
  }
 ],
 "metadata": {
  "kernelspec": {
   "display_name": "Python 2",
   "language": "python",
   "name": "python2"
  },
  "language_info": {
   "codemirror_mode": {
    "name": "ipython",
    "version": 2
   },
   "file_extension": ".py",
   "mimetype": "text/x-python",
   "name": "python",
   "nbconvert_exporter": "python",
   "pygments_lexer": "ipython2",
   "version": "2.7.10"
  }
 },
 "nbformat": 4,
 "nbformat_minor": 0
}
