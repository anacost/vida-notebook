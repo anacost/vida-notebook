{
 "cells": [
  {
   "cell_type": "markdown",
   "metadata": {},
   "source": [
    "<h1 class=\"header\">Data visualizations for IPython notebook</h1>\n",
    "<br>\n",
    "Made by <a href=\"https://vida.io\">vida.io</a>.\n",
    "<br>\n",
    "Question or comment. Send to <a href=\"mailto:contact@vida.io?Subject=IPython\">contact@vida.io</a>."
   ]
  },
  {
   "cell_type": "markdown",
   "metadata": {},
   "source": [
    "<div class=\"section\">\n",
    "<h2>Charts</h2>\n",
    "<a href=\"./column_chart.ipynb\" data-content=\"Column\" class=\"vida-thumbnail\">\n",
    "<img src=\"https://vida-production.s3.amazonaws.com/thumbnails/7kAhqrG4C4eDxEmvP\"/>\n",
    "</a>\n",
    "<a href=\"./bar_chart.ipynb\" data-content=\"Bar\" class=\"vida-thumbnail\">\n",
    "<img src=\"https://vida-production.s3.amazonaws.com/thumbnails/PaQKpZWohsxJZsfQQ\"/>\n",
    "</a>\n",
    "<a href=\"./bubble_chart.ipynb\" data-content=\"Bubble\" class=\"vida-thumbnail\">\n",
    "<img src=\"https://vida-production.s3.amazonaws.com/thumbnails/uqctrZDsecBWCWvBv\"/>\n",
    "</a>\n",
    "</div>\n",
    "<div class=\"section\">\n",
    "<h2>Tree, Treemap, Sandkey</h2>\n",
    "<a href=\"./tree.ipynb\" data-content=\"Tree\" class=\"vida-thumbnail\">\n",
    "<img src=\"https://vida-production.s3.amazonaws.com/thumbnails/dMog8pWr8mF4Sr2hk\"/>\n",
    "</a>\n",
    "<a href=\"./treemap.ipynb\" data-content=\"Treemap\" class=\"vida-thumbnail\">\n",
    "<img src=\"https://vida-production.s3.amazonaws.com/thumbnails/chgwCKJJnKh7soEcQ\"/>\n",
    "</a>\n",
    "<a href=\"./sandkey.ipynb\" data-content=\"Sandkey\" class=\"vida-thumbnail\">\n",
    "<img src=\"https://vida-production.s3.amazonaws.com/thumbnails/yB7uTByGsAwiZQFDZ\"/>\n",
    "</a>\n",
    "</div>\n",
    "<h2></h2>"
   ]
  },
  {
   "cell_type": "code",
   "execution_count": 30,
   "metadata": {
    "collapsed": false,
    "scrolled": true
   },
   "outputs": [
    {
     "data": {
      "text/html": [
       "<style>\n",
       "div.section {\n",
       "  width: 100%;\n",
       "  float: left;\n",
       "  margin-bottom: 40px;\n",
       "}\n",
       "\n",
       "h1.header {\n",
       "  color: steelblue;\n",
       "  font-size:40px;\n",
       "}\n",
       "\n",
       ".section h2 {\n",
       "  margin-bottom: 10px;\n",
       "}\n",
       "\n",
       ".vida-thumbnail {\n",
       "  width: 28%;\n",
       "  height: 210px;\n",
       "  float: left;\n",
       "  margin-right: 20px;\n",
       "  position: relative;\n",
       "  border: 1px solid #ddd;\n",
       "  border-radius: 4px;\n",
       "  -webkit-transition: border .2s ease-in-out;\n",
       "  transiation: border .2s ease-in-out;\n",
       "}\n",
       "\n",
       ".vida-thumbnail img {\n",
       "  height: 200px;\n",
       "  padding: 4px;\n",
       "  background-color: white;\n",
       "}\n",
       "\n",
       ".vida-thumbnail:after {\n",
       "    font-size: 40px;\n",
       "    text-align: center;\n",
       "    content: attr(data-content);\n",
       "    color:#fff;\n",
       "    position: absolute;\n",
       "    width:100%; height:100%;\n",
       "    top:0px; left:0px;\n",
       "    background:rgba(0,0,0,0.6);\n",
       "    opacity:0;\n",
       "    transition: all 0.5s;\n",
       "    -webkit-transition: all 0.5s;\n",
       "    padding-left: 5px;\n",
       "    padding-right: 5px;\n",
       "    padding-top: 30%;\n",
       "    border-radius: 4px;\n",
       "    margin-right: 10px;\n",
       "}\n",
       ".vida-thumbnail:hover:after {\n",
       "    opacity:0.8;\n",
       "}\n",
       "</style>\n"
      ],
      "text/plain": [
       "<IPython.core.display.HTML object>"
      ]
     },
     "metadata": {},
     "output_type": "display_data"
    }
   ],
   "source": [
    "from IPython.core.display import display, HTML\n",
    "display(HTML(open('style.css', 'r').read()));"
   ]
  },
  {
   "cell_type": "code",
   "execution_count": null,
   "metadata": {
    "collapsed": false
   },
   "outputs": [],
   "source": []
  },
  {
   "cell_type": "code",
   "execution_count": null,
   "metadata": {
    "collapsed": true
   },
   "outputs": [],
   "source": []
  }
 ],
 "metadata": {
  "kernelspec": {
   "display_name": "Python 2",
   "language": "python",
   "name": "python2"
  },
  "language_info": {
   "codemirror_mode": {
    "name": "ipython",
    "version": 2
   },
   "file_extension": ".py",
   "mimetype": "text/x-python",
   "name": "python",
   "nbconvert_exporter": "python",
   "pygments_lexer": "ipython2",
   "version": "2.7.10"
  }
 },
 "nbformat": 4,
 "nbformat_minor": 0
}
