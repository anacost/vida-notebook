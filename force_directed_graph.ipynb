{
 "cells": [
  {
   "cell_type": "code",
   "execution_count": 2,
   "metadata": {
    "collapsed": false
   },
   "outputs": [
    {
     "data": {
      "text/html": [
       "<script type=\"text/javascript\" src=\"https://rawgit.com/vidalab/isender/master/isender.js\"></script><iframe src=\"https://vida.io/embed/EfEFQqPE25GCMbhi9?ext_data=true\" width=\"600\" height=\"600\" seamless frameBorder=\"0\" scrolling=\"no\" id=\"vida-embed\"></iframe><script type=\"text/javascript\">document.getElementById(\"vida-embed\").onload = function() {var dataObj = [{\"source\": \"Harry\", \"target\": \"Sally\", \"value\": \"1.2\"}, {\"source\": \"Harry\", \"target\": \"Mario\", \"value\": \"1.3\"}, {\"source\": \"Sarah\", \"target\": \"Alice\", \"value\": \"0.2\"}, {\"source\": \"Eveie\", \"target\": \"Alice\", \"value\": \"0.5\"}, {\"source\": \"Peter\", \"target\": \"Alice\", \"value\": \"1.6\"}, {\"source\": \"Mario\", \"target\": \"Alice\", \"value\": \"0.4\"}, {\"source\": \"James\", \"target\": \"Alice\", \"value\": \"0.6\"}, {\"source\": \"Harry\", \"target\": \"Carol\", \"value\": \"0.7\"}, {\"source\": \"Harry\", \"target\": \"Nicky\", \"value\": \"0.8\"}, {\"source\": \"Bobby\", \"target\": \"Frank\", \"value\": \"0.8\"}, {\"source\": \"Alice\", \"target\": \"Mario\", \"value\": \"0.7\"}, {\"source\": \"Harry\", \"target\": \"Lynne\", \"value\": \"0.5\"}, {\"source\": \"Sarah\", \"target\": \"James\", \"value\": \"1.9\"}, {\"source\": \"Roger\", \"target\": \"James\", \"value\": \"1.1\"}, {\"source\": \"Maddy\", \"target\": \"James\", \"value\": \"0.3\"}, {\"source\": \"Sonny\", \"target\": \"Roger\", \"value\": \"0.5\"}, {\"source\": \"James\", \"target\": \"Roger\", \"value\": \"1.5\"}, {\"source\": \"Alice\", \"target\": \"Peter\", \"value\": \"1.1\"}, {\"source\": \"Johan\", \"target\": \"Peter\", \"value\": \"1.6\"}, {\"source\": \"Alice\", \"target\": \"Eveie\", \"value\": \"0.5\"}, {\"source\": \"Harry\", \"target\": \"Eveie\", \"value\": \"0.1\"}, {\"source\": \"Eveie\", \"target\": \"Harry\", \"value\": \"2.0\"}, {\"source\": \"Henry\", \"target\": \"Mikey\", \"value\": \"0.4\"}, {\"source\": \"Elric\", \"target\": \"Mikey\", \"value\": \"0.6\"}, {\"source\": \"James\", \"target\": \"Sarah\", \"value\": \"1.5\"}, {\"source\": \"Alice\", \"target\": \"Sarah\", \"value\": \"0.6\"}, {\"source\": \"James\", \"target\": \"Maddy\", \"value\": \"0.5\"}, {\"source\": \"Peter\", \"target\": \"Johan\", \"value\": \"0.7\"}];var sender = new Vida.ISender(\"vida-embed\");sender.postRender(dataObj);}</script>"
      ],
      "text/plain": [
       "<IPython.core.display.HTML object>"
      ]
     },
     "execution_count": 2,
     "metadata": {},
     "output_type": "execute_result"
    }
   ],
   "source": [
    "import vida\n",
    "\n",
    "data = [{\"source\":\"Harry\",\"target\":\"Sally\",\"value\":\"1.2\"},{\"source\":\"Harry\",\"target\":\"Mario\",\"value\":\"1.3\"},{\"source\":\"Sarah\",\"target\":\"Alice\",\"value\":\"0.2\"},{\"source\":\"Eveie\",\"target\":\"Alice\",\"value\":\"0.5\"},{\"source\":\"Peter\",\"target\":\"Alice\",\"value\":\"1.6\"},{\"source\":\"Mario\",\"target\":\"Alice\",\"value\":\"0.4\"},{\"source\":\"James\",\"target\":\"Alice\",\"value\":\"0.6\"},{\"source\":\"Harry\",\"target\":\"Carol\",\"value\":\"0.7\"},{\"source\":\"Harry\",\"target\":\"Nicky\",\"value\":\"0.8\"},{\"source\":\"Bobby\",\"target\":\"Frank\",\"value\":\"0.8\"},{\"source\":\"Alice\",\"target\":\"Mario\",\"value\":\"0.7\"},{\"source\":\"Harry\",\"target\":\"Lynne\",\"value\":\"0.5\"},{\"source\":\"Sarah\",\"target\":\"James\",\"value\":\"1.9\"},{\"source\":\"Roger\",\"target\":\"James\",\"value\":\"1.1\"},{\"source\":\"Maddy\",\"target\":\"James\",\"value\":\"0.3\"},{\"source\":\"Sonny\",\"target\":\"Roger\",\"value\":\"0.5\"},{\"source\":\"James\",\"target\":\"Roger\",\"value\":\"1.5\"},{\"source\":\"Alice\",\"target\":\"Peter\",\"value\":\"1.1\"},{\"source\":\"Johan\",\"target\":\"Peter\",\"value\":\"1.6\"},{\"source\":\"Alice\",\"target\":\"Eveie\",\"value\":\"0.5\"},{\"source\":\"Harry\",\"target\":\"Eveie\",\"value\":\"0.1\"},{\"source\":\"Eveie\",\"target\":\"Harry\",\"value\":\"2.0\"},{\"source\":\"Henry\",\"target\":\"Mikey\",\"value\":\"0.4\"},{\"source\":\"Elric\",\"target\":\"Mikey\",\"value\":\"0.6\"},{\"source\":\"James\",\"target\":\"Sarah\",\"value\":\"1.5\"},{\"source\":\"Alice\",\"target\":\"Sarah\",\"value\":\"0.6\"},{\"source\":\"James\",\"target\":\"Maddy\",\"value\":\"0.5\"},{\"source\":\"Peter\",\"target\":\"Johan\",\"value\":\"0.7\"}]\n",
    "\n",
    "vida.show(\"EfEFQqPE25GCMbhi9\", data, options={\"width\": 600,\"height\": 600})\n"
   ]
  },
  {
   "cell_type": "code",
   "execution_count": null,
   "metadata": {
    "collapsed": true
   },
   "outputs": [],
   "source": []
  },
  {
   "cell_type": "code",
   "execution_count": null,
   "metadata": {
    "collapsed": true
   },
   "outputs": [],
   "source": []
  }
 ],
 "metadata": {
  "kernelspec": {
   "display_name": "Python 2",
   "language": "python",
   "name": "python2"
  },
  "language_info": {
   "codemirror_mode": {
    "name": "ipython",
    "version": 2
   },
   "file_extension": ".py",
   "mimetype": "text/x-python",
   "name": "python",
   "nbconvert_exporter": "python",
   "pygments_lexer": "ipython2",
   "version": "2.7.10"
  }
 },
 "nbformat": 4,
 "nbformat_minor": 0
}
