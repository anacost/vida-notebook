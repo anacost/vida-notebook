{
 "cells": [
  {
   "cell_type": "code",
   "execution_count": 3,
   "metadata": {
    "collapsed": false
   },
   "outputs": [
    {
     "data": {
      "text/html": [
       "<script type=\"text/javascript\" src=\"https://rawgit.com/vidalab/isender/master/isender.js\"></script><iframe src=\"https://vida.io/embed/WgBMc4zDWF7YpqXGR?ext_data=true\" width=\"900\" height=\"600\" seamless frameBorder=\"0\" scrolling=\"yes\" id=\"vida-embed\"></iframe><script type=\"text/javascript\">document.getElementById(\"vida-embed\").onload = function() {var dataObj = [{\"employees\": \"18250\", \"working\": \"549\", \"name\": \"National Aeronautics and Space Administration\", \"short_name\": \"NASA\", \"furloughed\": \"17701\"}, {\"employees\": \"8709\", \"working\": \"349\", \"name\": \"Department of Housing and Urban Development\", \"short_name\": \"HUD\", \"furloughed\": \"8360\"}, {\"employees\": \"4225\", \"working\": \"212\", \"name\": \"Department of Education\", \"short_name\": \"ED\", \"furloughed\": \"4013\"}, {\"employees\": \"16205\", \"working\": \"1069\", \"name\": \"Environmental Protection Agency\", \"short_name\": \"EPA\", \"furloughed\": \"15136\"}, {\"employees\": \"13814\", \"working\": \"1113\", \"name\": \"Department of Energy\", \"short_name\": \"DOE\", \"furloughed\": \"12701\"}, {\"employees\": \"3797\", \"working\": \"332\", \"name\": \"Securities Exchange Commision\", \"short_name\": \"SEC\", \"furloughed\": \"3465\"}, {\"employees\": \"24645\", \"working\": \"3266\", \"name\": \"National Park Service\", \"short_name\": \"NPS\", \"furloughed\": \"21379\"}, {\"employees\": \"46420\", \"working\": \"6186\", \"name\": \"Department of Commerce\", \"short_name\": \"DOC\", \"furloughed\": \"40234\"}, {\"employees\": \"4202\", \"working\": \"688\", \"name\": \"Smithsonian Institute\", \"short_name\": \"SI\", \"furloughed\": \"3514\"}, {\"employees\": \"16304\", \"working\": \"2954\", \"name\": \"Department of Labor\", \"short_name\": \"DOL\", \"furloughed\": \"13350\"}, {\"employees\": \"110000\", \"working\": \"20000\", \"name\": \"Department of Treasury\", \"short_name\": \"Treasury\", \"furloughed\": \"90000\"}, {\"employees\": \"72567\", \"working\": \"13802\", \"name\": \"Department of Interior\", \"short_name\": \"DOI\", \"furloughed\": \"58765\"}, {\"employees\": \"1701\", \"working\": \"436\", \"name\": \"White House\", \"short_name\": \"White House\", \"furloughed\": \"1265\"}, {\"employees\": \"18646\", \"working\": \"4948\", \"name\": \"National Institute of Health\", \"short_name\": \"NIH\", \"furloughed\": \"13698\"}, {\"employees\": \"78198\", \"working\": \"37686\", \"name\": \"Department of Health and Human Services\", \"short_name\": \"HHS\", \"furloughed\": \"40512\"}, {\"employees\": \"800000\", \"working\": \"400000\", \"name\": \"Department of Defense (civilian)\", \"short_name\": \"DOD(civilian)\", \"furloughed\": \"400000\"}, {\"employees\": \"14800\", \"working\": \"8180\", \"name\": \"Food and Drug Administration\", \"short_name\": \"FDA\", \"furloughed\": \"6620\"}, {\"employees\": \"3516\", \"working\": \"2187\", \"name\": \"Small Business Administration\", \"short_name\": \"SBA\", \"furloughed\": \"1329\"}, {\"employees\": \"55468\", \"working\": \"36987\", \"name\": \"Department of Transportation\", \"short_name\": \"DOT\", \"furloughed\": \"18481\"}, {\"employees\": \"114486\", \"working\": \"96744\", \"name\": \"Department of Justice\", \"short_name\": \"DOJ\", \"furloughed\": \"17742\"}, {\"employees\": \"231117\", \"working\": \"199822\", \"name\": \"Department of Homeland Security\", \"short_name\": \"DHS\", \"furloughed\": \"31295\"}, {\"employees\": \"332025\", \"working\": \"317801\", \"name\": \"Veterans Affairs\", \"short_name\": \"VA\", \"furloughed\": \"14224\"}];var sender = new Vida.ISender(\"vida-embed\");sender.postRender(dataObj);}</script>"
      ],
      "text/plain": [
       "<IPython.core.display.HTML object>"
      ]
     },
     "execution_count": 3,
     "metadata": {},
     "output_type": "execute_result"
    }
   ],
   "source": [
    "from IPython.core.display import HTML\n",
    "import json\n",
    "\n",
    "data = [{\"name\":\"National Aeronautics and Space Administration\",\"short_name\":\"NASA\",\"employees\":\"18250\",\"furloughed\":\"17701\",\"working\":\"549\"},{\"name\":\"Department of Housing and Urban Development\",\"short_name\":\"HUD\",\"employees\":\"8709\",\"furloughed\":\"8360\",\"working\":\"349\"},{\"name\":\"Department of Education\",\"short_name\":\"ED\",\"employees\":\"4225\",\"furloughed\":\"4013\",\"working\":\"212\"},{\"name\":\"Environmental Protection Agency\",\"short_name\":\"EPA\",\"employees\":\"16205\",\"furloughed\":\"15136\",\"working\":\"1069\"},{\"name\":\"Department of Energy\",\"short_name\":\"DOE\",\"employees\":\"13814\",\"furloughed\":\"12701\",\"working\":\"1113\"},{\"name\":\"Securities Exchange Commision\",\"short_name\":\"SEC\",\"employees\":\"3797\",\"furloughed\":\"3465\",\"working\":\"332\"},{\"name\":\"National Park Service\",\"short_name\":\"NPS\",\"employees\":\"24645\",\"furloughed\":\"21379\",\"working\":\"3266\"},{\"name\":\"Department of Commerce\",\"short_name\":\"DOC\",\"employees\":\"46420\",\"furloughed\":\"40234\",\"working\":\"6186\"},{\"name\":\"Smithsonian Institute\",\"short_name\":\"SI\",\"employees\":\"4202\",\"furloughed\":\"3514\",\"working\":\"688\"},{\"name\":\"Department of Labor\",\"short_name\":\"DOL\",\"employees\":\"16304\",\"furloughed\":\"13350\",\"working\":\"2954\"},{\"name\":\"Department of Treasury\",\"short_name\":\"Treasury\",\"employees\":\"110000\",\"furloughed\":\"90000\",\"working\":\"20000\"},{\"name\":\"Department of Interior\",\"short_name\":\"DOI\",\"employees\":\"72567\",\"furloughed\":\"58765\",\"working\":\"13802\"},{\"name\":\"White House\",\"short_name\":\"White House\",\"employees\":\"1701\",\"furloughed\":\"1265\",\"working\":\"436\"},{\"name\":\"National Institute of Health\",\"short_name\":\"NIH\",\"employees\":\"18646\",\"furloughed\":\"13698\",\"working\":\"4948\"},{\"name\":\"Department of Health and Human Services\",\"short_name\":\"HHS\",\"employees\":\"78198\",\"furloughed\":\"40512\",\"working\":\"37686\"},{\"name\":\"Department of Defense (civilian)\",\"short_name\":\"DOD(civilian)\",\"employees\":\"800000\",\"furloughed\":\"400000\",\"working\":\"400000\"},{\"name\":\"Food and Drug Administration\",\"short_name\":\"FDA\",\"employees\":\"14800\",\"furloughed\":\"6620\",\"working\":\"8180\"},{\"name\":\"Small Business Administration\",\"short_name\":\"SBA\",\"employees\":\"3516\",\"furloughed\":\"1329\",\"working\":\"2187\"},{\"name\":\"Department of Transportation\",\"short_name\":\"DOT\",\"employees\":\"55468\",\"furloughed\":\"18481\",\"working\":\"36987\"},{\"name\":\"Department of Justice\",\"short_name\":\"DOJ\",\"employees\":\"114486\",\"furloughed\":\"17742\",\"working\":\"96744\"},{\"name\":\"Department of Homeland Security\",\"short_name\":\"DHS\",\"employees\":\"231117\",\"furloughed\":\"31295\",\"working\":\"199822\"},{\"name\":\"Veterans Affairs\",\"short_name\":\"VA\",\"employees\":\"332025\",\"furloughed\":\"14224\",\"working\":\"317801\"}]\n",
    "\n",
    "HTML('<script type=\"text/javascript\" src=\"https://rawgit.com/vidalab/isender/master/isender.js\"></script>' +\n",
    "'<iframe src=\"https://vida.io/embed/WgBMc4zDWF7YpqXGR?ext_data=true\" width=\"900\" height=\"600\" seamless frameBorder=\"0\" scrolling=\"yes\" id=\"vida-embed\"></iframe>' +\n",
    "'<script type=\"text/javascript\">' +\n",
    "'document.getElementById(\"vida-embed\").onload = function() {' +\n",
    "'var dataObj = ' +\n",
    "json.dumps(data) + ';' +\n",
    "'var sender = new Vida.ISender(\"vida-embed\");' +\n",
    "'sender.postRender(dataObj);' +\n",
    "'}' +\n",
    "'</script>')\n"
   ]
  },
  {
   "cell_type": "code",
   "execution_count": null,
   "metadata": {
    "collapsed": true
   },
   "outputs": [],
   "source": []
  },
  {
   "cell_type": "code",
   "execution_count": null,
   "metadata": {
    "collapsed": true
   },
   "outputs": [],
   "source": []
  }
 ],
 "metadata": {
  "kernelspec": {
   "display_name": "Python 2",
   "language": "python",
   "name": "python2"
  },
  "language_info": {
   "codemirror_mode": {
    "name": "ipython",
    "version": 2
   },
   "file_extension": ".py",
   "mimetype": "text/x-python",
   "name": "python",
   "nbconvert_exporter": "python",
   "pygments_lexer": "ipython2",
   "version": "2.7.10"
  }
 },
 "nbformat": 4,
 "nbformat_minor": 0
}
