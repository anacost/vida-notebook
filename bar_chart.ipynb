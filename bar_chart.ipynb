{
 "cells": [
  {
   "cell_type": "code",
   "execution_count": 1,
   "metadata": {
    "collapsed": false
   },
   "outputs": [
    {
     "data": {
      "text/html": [
       "<script type=\"text/javascript\" src=\"https://rawgit.com/vidalab/isender/master/isender.js\"></script><iframe src=\"https://vida.io/embed/PaQKpZWohsxJZsfQQ?ext_data=true\" width=\"800\" height=\"500\" seamless frameBorder=\"0\" scrolling=\"yes\" id=\"vida-embed\"></iframe><script type=\"text/javascript\">document.getElementById(\"vida-embed\").onload = function() {var dataObj = [{\"Brand\": \"@SamuelAdamsBeer\", \"Total Engagement\": \"79380\", \"Sent Tweets\": \"4457\"}, {\"Brand\": \"@zumiez\", \"Total Engagement\": \"65475\", \"Sent Tweets\": \"6414\"}, {\"Brand\": \"@annieshomegrown\", \"Total Engagement\": \"22360\", \"Sent Tweets\": \"2713\"}, {\"Brand\": \"@AlligantTravel\", \"Total Engagement\": \"15732\", \"Sent Tweets\": \"2806\"}, {\"Brand\": \"@Shutterfly\", \"Total Engagement\": \"14782\", \"Sent Tweets\": \"1937\"}, {\"Brand\": \"@OpenTable\", \"Total Engagement\": \"14126\", \"Sent Tweets\": \"2150\"}, {\"Brand\": \"@lifeway_kefir\", \"Total Engagement\": \"10229\", \"Sent Tweets\": \"927\"}, {\"Brand\": \"@gcu\", \"Total Engagement\": \"9789\", \"Sent Tweets\": \"1495\"}, {\"Brand\": \"@sleepnumber\", \"Total Engagement\": \"9660\", \"Sent Tweets\": \"2741\"}, {\"Brand\": \"@pega\", \"Total Engagement\": \"9148\", \"Sent Tweets\": \"2039\"}];var sender = new Vida.ISender(\"vida-embed\");sender.postRender(dataObj);}</script>"
      ],
      "text/plain": [
       "<IPython.core.display.HTML object>"
      ]
     },
     "execution_count": 1,
     "metadata": {},
     "output_type": "execute_result"
    }
   ],
   "source": [
    "from IPython.core.display import HTML\n",
    "import json\n",
    "\n",
    "data = [{\"Brand\":\"@SamuelAdamsBeer\",\"Total Engagement\":\"79380\",\"Sent Tweets\":\"4457\"},{\"Brand\":\"@zumiez\",\"Total Engagement\":\"65475\",\"Sent Tweets\":\"6414\"},{\"Brand\":\"@annieshomegrown\",\"Total Engagement\":\"22360\",\"Sent Tweets\":\"2713\"},{\"Brand\":\"@AlligantTravel\",\"Total Engagement\":\"15732\",\"Sent Tweets\":\"2806\"},{\"Brand\":\"@Shutterfly\",\"Total Engagement\":\"14782\",\"Sent Tweets\":\"1937\"},{\"Brand\":\"@OpenTable\",\"Total Engagement\":\"14126\",\"Sent Tweets\":\"2150\"},{\"Brand\":\"@lifeway_kefir\",\"Total Engagement\":\"10229\",\"Sent Tweets\":\"927\"},{\"Brand\":\"@gcu\",\"Total Engagement\":\"9789\",\"Sent Tweets\":\"1495\"},{\"Brand\":\"@sleepnumber\",\"Total Engagement\":\"9660\",\"Sent Tweets\":\"2741\"},{\"Brand\":\"@pega\",\"Total Engagement\":\"9148\",\"Sent Tweets\":\"2039\"}];\n",
    "\n",
    "HTML('<script type=\"text/javascript\" src=\"https://rawgit.com/vidalab/isender/master/isender.js\"></script>' +\n",
    "'<iframe src=\"https://vida.io/embed/PaQKpZWohsxJZsfQQ?ext_data=true\" width=\"800\" height=\"500\" seamless frameBorder=\"0\" scrolling=\"yes\" id=\"vida-embed\"></iframe>' +\n",
    "'<script type=\"text/javascript\">' +\n",
    "'document.getElementById(\"vida-embed\").onload = function() {' +\n",
    "'var dataObj = ' +\n",
    "json.dumps(data) + ';' +\n",
    "'var sender = new Vida.ISender(\"vida-embed\");' +\n",
    "'sender.postRender(dataObj);' +\n",
    "'}' +\n",
    "'</script>')\n"
   ]
  },
  {
   "cell_type": "code",
   "execution_count": null,
   "metadata": {
    "collapsed": true
   },
   "outputs": [],
   "source": []
  },
  {
   "cell_type": "code",
   "execution_count": null,
   "metadata": {
    "collapsed": true
   },
   "outputs": [],
   "source": []
  }
 ],
 "metadata": {
  "kernelspec": {
   "display_name": "Python 2",
   "language": "python",
   "name": "python2"
  },
  "language_info": {
   "codemirror_mode": {
    "name": "ipython",
    "version": 2
   },
   "file_extension": ".py",
   "mimetype": "text/x-python",
   "name": "python",
   "nbconvert_exporter": "python",
   "pygments_lexer": "ipython2",
   "version": "2.7.10"
  }
 },
 "nbformat": 4,
 "nbformat_minor": 0
}
