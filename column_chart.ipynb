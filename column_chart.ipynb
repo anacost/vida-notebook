{
 "cells": [
  {
   "cell_type": "code",
   "execution_count": 19,
   "metadata": {
    "collapsed": false
   },
   "outputs": [
    {
     "data": {
      "text/html": [
       "<script type=\"text/javascript\" src=\"https://rawgit.com/vidalab/isender/master/isender.js\"></script><iframe src=\"https://vida.io/embed/7kAhqrG4C4eDxEmvP?ext_data=true\" width=\"800\" height=\"500\" seamless frameBorder=\"0\" scrolling=\"yes\" id=\"vida-embed\"></iframe><script type=\"text/javascript\">document.getElementById(\"vida-embed\").onload = function() {var dataObj = [{\"name\": \"Juniper\", \"size\": 159990}, {\"name\": \"LinkedIn\", \"size\": 136427}, {\"name\": \"YAHOO!\", \"size\": 130312}, {\"name\": \"Google\", \"size\": 127143}, {\"name\": \"Twitter\", \"size\": 124863}, {\"name\": \"Apple\", \"size\": 124630}, {\"name\": \"Oracle\", \"size\": 122905}, {\"name\": \"Walmart\", \"size\": 122110}, {\"name\": \"Facebook\", \"size\": 121507}, {\"name\": \"Integral\", \"size\": 117927}, {\"name\": \"ARISTA\", \"size\": 116067}, {\"name\": \"NVIDIA\", \"size\": 115649}, {\"name\": \"ebay\", \"size\": 114720}, {\"name\": \"Amazon\", \"size\": 110907}, {\"name\": \"HP\", \"size\": 110506}, {\"name\": \"Brocade\", \"size\": 110069}, {\"name\": \"Cisco\", \"size\": 109491}, {\"name\": \"Microsoft\", \"size\": 108611}, {\"name\": \"Intel\", \"size\": 108210}, {\"name\": \"INTUIT\", \"size\": 104440}];var sender = new Vida.ISender(\"vida-embed\");sender.postRender(dataObj);}</script>"
      ],
      "text/plain": [
       "<IPython.core.display.HTML object>"
      ]
     },
     "execution_count": 19,
     "metadata": {},
     "output_type": "execute_result"
    }
   ],
   "source": [
    "from IPython.core.display import HTML\n",
    "import json\n",
    "\n",
    "data = [\n",
    "  {\n",
    "    \"name\": \"Juniper\",\n",
    "    \"size\": 159990\n",
    "  },\n",
    "  {\n",
    "    \"name\": \"LinkedIn\",\n",
    "    \"size\": 136427\n",
    "  },\n",
    "  {\n",
    "    \"name\": \"YAHOO!\",\n",
    "    \"size\": 130312\n",
    "  },\n",
    "  {\n",
    "    \"name\": \"Google\",\n",
    "    \"size\": 127143\n",
    "  },\n",
    "  {\n",
    "    \"name\": \"Twitter\",\n",
    "    \"size\": 124863\n",
    "  },\n",
    "  {\n",
    "    \"name\": \"Apple\",\n",
    "    \"size\": 124630\n",
    "  },\n",
    "  {\n",
    "    \"name\": \"Oracle\",\n",
    "    \"size\": 122905\n",
    "  },\n",
    "  {\n",
    "    \"name\": \"Walmart\",\n",
    "    \"size\": 122110\n",
    "  },\n",
    "  {\n",
    "    \"name\": \"Facebook\",\n",
    "    \"size\": 121507\n",
    "  },\n",
    "  {\n",
    "    \"name\": \"Integral\",\n",
    "    \"size\": 117927\n",
    "  },\n",
    "  {\n",
    "    \"name\": \"ARISTA\",\n",
    "    \"size\": 116067\n",
    "  },\n",
    "  {\n",
    "    \"name\": \"NVIDIA\",\n",
    "    \"size\": 115649\n",
    "  },\n",
    "  {\n",
    "    \"name\": \"ebay\",\n",
    "    \"size\": 114720\n",
    "  },\n",
    "  {\n",
    "    \"name\": \"Amazon\",\n",
    "    \"size\": 110907\n",
    "  },\n",
    "  {\n",
    "    \"name\": \"HP\",\n",
    "    \"size\": 110506\n",
    "  },\n",
    "  {\n",
    "    \"name\": \"Brocade\",\n",
    "    \"size\": 110069\n",
    "  },\n",
    "  {\n",
    "    \"name\": \"Cisco\",\n",
    "    \"size\": 109491\n",
    "  },\n",
    "  {\n",
    "    \"name\": \"Microsoft\",\n",
    "    \"size\": 108611\n",
    "  },\n",
    "  {\n",
    "    \"name\": \"Intel\",\n",
    "    \"size\": 108210\n",
    "  },\n",
    "  {\n",
    "    \"name\": \"INTUIT\",\n",
    "    \"size\": 104440\n",
    "  }\n",
    "];\n",
    "\n",
    "HTML('<script type=\"text/javascript\" src=\"https://rawgit.com/vidalab/isender/master/isender.js\"></script>' +\n",
    "'<iframe src=\"https://vida.io/embed/7kAhqrG4C4eDxEmvP?ext_data=true\" width=\"800\" height=\"500\" seamless frameBorder=\"0\" scrolling=\"yes\" id=\"vida-embed\"></iframe>' +\n",
    "'<script type=\"text/javascript\">' +\n",
    "'document.getElementById(\"vida-embed\").onload = function() {' +\n",
    "'var dataObj = ' +\n",
    "json.dumps(data) + ';' +\n",
    "'var sender = new Vida.ISender(\"vida-embed\");' +\n",
    "'sender.postRender(dataObj);' +\n",
    "'}' +\n",
    "'</script>')\n"
   ]
  },
  {
   "cell_type": "code",
   "execution_count": null,
   "metadata": {
    "collapsed": true
   },
   "outputs": [],
   "source": []
  },
  {
   "cell_type": "code",
   "execution_count": null,
   "metadata": {
    "collapsed": true
   },
   "outputs": [],
   "source": []
  }
 ],
 "metadata": {
  "kernelspec": {
   "display_name": "Python 2",
   "language": "python",
   "name": "python2"
  },
  "language_info": {
   "codemirror_mode": {
    "name": "ipython",
    "version": 2
   },
   "file_extension": ".py",
   "mimetype": "text/x-python",
   "name": "python",
   "nbconvert_exporter": "python",
   "pygments_lexer": "ipython2",
   "version": "2.7.10"
  }
 },
 "nbformat": 4,
 "nbformat_minor": 0
}
